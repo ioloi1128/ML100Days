{
  "nbformat": 4,
  "nbformat_minor": 0,
  "metadata": {
    "colab": {
      "name": "CDA.week2.ex1.ipynb",
      "provenance": [],
      "collapsed_sections": [],
      "authorship_tag": "ABX9TyO78QLFpWiLEnEPz15iOywg",
      "include_colab_link": true
    },
    "kernelspec": {
      "name": "python3",
      "display_name": "Python 3"
    },
    "language_info": {
      "name": "python"
    }
  },
  "cells": [
    {
      "cell_type": "markdown",
      "metadata": {
        "id": "view-in-github",
        "colab_type": "text"
      },
      "source": [
        "<a href=\"https://colab.research.google.com/github/ioloi1128/ML100Days/blob/main/CDA_week2_ex1.ipynb\" target=\"_parent\"><img src=\"https://colab.research.google.com/assets/colab-badge.svg\" alt=\"Open In Colab\"/></a>"
      ]
    },
    {
      "cell_type": "markdown",
      "source": [
        "install"
      ],
      "metadata": {
        "id": "U08vYiuAwXzN"
      }
    },
    {
      "cell_type": "code",
      "execution_count": null,
      "metadata": {
        "id": "VEVVKkR3v5-m"
      },
      "outputs": [],
      "source": [
        "!pip install numpy"
      ]
    },
    {
      "cell_type": "code",
      "source": [
        "!pip install matplotlib"
      ],
      "metadata": {
        "id": "KDsPot-gw9tw"
      },
      "execution_count": null,
      "outputs": []
    },
    {
      "cell_type": "code",
      "source": [
        "!pip install pandas"
      ],
      "metadata": {
        "id": "VJS4nLXoxFAP"
      },
      "execution_count": null,
      "outputs": []
    },
    {
      "cell_type": "code",
      "source": [
        "!pip install zarr"
      ],
      "metadata": {
        "id": "Xb3O0dEqxJTQ"
      },
      "execution_count": null,
      "outputs": []
    },
    {
      "cell_type": "code",
      "source": [
        "!pip install fsspec"
      ],
      "metadata": {
        "id": "UnPw6z4hxTFS"
      },
      "execution_count": null,
      "outputs": []
    },
    {
      "cell_type": "code",
      "source": [
        "!pip install gcsfs"
      ],
      "metadata": {
        "id": "c3zKwSu0xXWC"
      },
      "execution_count": null,
      "outputs": []
    },
    {
      "cell_type": "code",
      "source": [
        "!pip install xarray[complete]"
      ],
      "metadata": {
        "id": "6LjBJD8mxdjP"
      },
      "execution_count": null,
      "outputs": []
    },
    {
      "cell_type": "markdown",
      "source": [
        "define"
      ],
      "metadata": {
        "id": "dn6mqBUSwVgj"
      }
    },
    {
      "cell_type": "code",
      "source": [
        "from matplotlib import pyplot as plt\n",
        "import numpy as np\n",
        "import pandas as pd\n",
        "import xarray as xr\n",
        "import zarr\n",
        "import fsspec"
      ],
      "metadata": {
        "id": "ygSdCBNswmwA"
      },
      "execution_count": null,
      "outputs": []
    },
    {
      "cell_type": "code",
      "source": [
        "df = pd.read_csv('https://storage.googleapis.com/cmip6/cmip6-zarr-consolidated-stores.csv')\n",
        "df.head()"
      ],
      "metadata": {
        "id": "ngtGamSyxnQS"
      },
      "execution_count": null,
      "outputs": []
    },
    {
      "cell_type": "code",
      "source": [
        "df_ta = df.query(\"activity_id=='CMIP' & table_id == 'Amon' & variable_id == 'tas' & experiment_id == 'historical'\")\n",
        "df_ta"
      ],
      "metadata": {
        "id": "GxqxD765xyRX"
      },
      "execution_count": null,
      "outputs": []
    },
    {
      "cell_type": "code",
      "source": [
        "df_ta_ncar = df_ta.query('institution_id == \"NCAR\"')\n",
        "df_ta_ncar"
      ],
      "metadata": {
        "id": "hKOcWZBTx6vH"
      },
      "execution_count": null,
      "outputs": []
    },
    {
      "cell_type": "code",
      "source": [
        "# get the path to a specific zarr store (the first one from the dataframe above)\n",
        "zstore = df_ta_ncar.zstore.values[-1]\n",
        "print(zstore)"
      ],
      "metadata": {
        "id": "TNOkbfLgyBkw"
      },
      "execution_count": null,
      "outputs": []
    },
    {
      "cell_type": "code",
      "source": [
        "# create a mutable-mapping-style interface to the store\n",
        "mapper = fsspec.get_mapper(zstore)"
      ],
      "metadata": {
        "id": "7kMZwrpVyHFc"
      },
      "execution_count": 15,
      "outputs": []
    },
    {
      "cell_type": "code",
      "source": [
        "# open it using xarray and zarr\n",
        "ds = xr.open_zarr(mapper, consolidated=True)\n",
        "ds"
      ],
      "metadata": {
        "id": "BSdDtHBXyK-Z"
      },
      "execution_count": null,
      "outputs": []
    },
    {
      "cell_type": "markdown",
      "source": [
        "save data"
      ],
      "metadata": {
        "id": "jDU0GQ-Iy8rC"
      }
    },
    {
      "cell_type": "code",
      "source": [
        "ds.to_netcdf(path=\"saved_NCAR.ts.nc\")"
      ],
      "metadata": {
        "id": "SWacvpwnyYEr"
      },
      "execution_count": 17,
      "outputs": []
    },
    {
      "cell_type": "code",
      "source": [
        "from google.colab import files\n",
        "\n",
        "with open('saved_NCAR.ts.nc', 'w') as f:\n",
        "  f.write('some content')\n",
        "\n",
        "files.download('saved_NCAR.ts.nc')"
      ],
      "metadata": {
        "id": "aZCOmstUyc64"
      },
      "execution_count": null,
      "outputs": []
    },
    {
      "cell_type": "markdown",
      "source": [
        "plot and analysis the data"
      ],
      "metadata": {
        "id": "gx3xk_tPy_ys"
      }
    },
    {
      "cell_type": "code",
      "source": [
        "ds.tas.sel(time='1960-07').squeeze().plot()"
      ],
      "metadata": {
        "id": "XFvNjpu-ygQ6"
      },
      "execution_count": null,
      "outputs": []
    },
    {
      "cell_type": "code",
      "source": [
        "df_area = df.query(\"variable_id == 'areacella' & source_id == 'CESM2'\")\n",
        "ds_area = xr.open_zarr(fsspec.get_mapper(df_area.zstore.values[0]), consolidated=True)\n",
        "ds_area"
      ],
      "metadata": {
        "id": "-gVoZJh6ykRt"
      },
      "execution_count": null,
      "outputs": []
    },
    {
      "cell_type": "code",
      "source": [
        "total_area = ds_area.areacella.sum(dim=['lon', 'lat'])\n",
        "ta_timeseries = (ds.tas * ds_area.areacella).sum(dim=['lon', 'lat']) / total_area\n",
        "ta_timeseries"
      ],
      "metadata": {
        "id": "Xu1blUH4yodr"
      },
      "execution_count": null,
      "outputs": []
    },
    {
      "cell_type": "code",
      "source": [
        "%time ta_timeseries.load()"
      ],
      "metadata": {
        "id": "RkpAJhMVywHs"
      },
      "execution_count": null,
      "outputs": []
    },
    {
      "cell_type": "code",
      "source": [
        "ta_timeseries.plot(label='monthly')\n",
        "ta_timeseries.rolling(time=12).mean().plot(label='12 month rolling mean')\n",
        "plt.legend()\n",
        "plt.title('Global Mean Surface Air Temperature')"
      ],
      "metadata": {
        "id": "6A3UMdGQyxSY"
      },
      "execution_count": null,
      "outputs": []
    }
  ]
}